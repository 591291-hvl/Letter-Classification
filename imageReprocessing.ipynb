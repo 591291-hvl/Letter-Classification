{
 "cells": [
  {
   "cell_type": "markdown",
   "metadata": {},
   "source": [
    "This notebook was used to create imageConverter.py\n",
    "\n",
    "only included to kinda show thought process."
   ]
  },
  {
   "cell_type": "code",
   "execution_count": 55,
   "metadata": {},
   "outputs": [],
   "source": [
    "from PIL import Image, ImageOps\n",
    "from matplotlib import pyplot as plt\n",
    "a = Image.open(\"img.png\")\n"
   ]
  },
  {
   "cell_type": "code",
   "execution_count": 56,
   "metadata": {},
   "outputs": [
    {
     "data": {
      "image/png": "[encoded data removed]",
      "text/plain": [
       "<Figure size 432x288 with 1 Axes>"
      ]
     },
     "metadata": {
      "needs_background": "light"
     },
     "output_type": "display_data"
    }
   ],
   "source": [
    "plt.imshow(a, cmap='gray',interpolation='nearest')\n",
    "plt.show()"
   ]
  },
  {
   "cell_type": "code",
   "execution_count": 57,
   "metadata": {},
   "outputs": [],
   "source": [
    "a = ImageOps.grayscale(a)"
   ]
  },
  {
   "cell_type": "code",
   "execution_count": 58,
   "metadata": {},
   "outputs": [],
   "source": [
    "#invert\n",
    "a = ImageOps.invert(a)"
   ]
  },
  {
   "cell_type": "code",
   "execution_count": 59,
   "metadata": {},
   "outputs": [
    {
     "data": {
      "image/png": "[encoded data removed]",
      "text/plain": [
       "<Figure size 432x288 with 1 Axes>"
      ]
     },
     "metadata": {
      "needs_background": "light"
     },
     "output_type": "display_data"
    }
   ],
   "source": [
    "plt.imshow(a, cmap='gray',interpolation='nearest')\n",
    "plt.show()"
   ]
  },
  {
   "cell_type": "code",
   "execution_count": 60,
   "metadata": {},
   "outputs": [
    {
     "name": "stdout",
     "output_type": "stream",
     "text": [
      "(128, 128)\n"
     ]
    }
   ],
   "source": [
    "#to array\n",
    "import numpy as np\n",
    "array = np.asarray(a)\n",
    "print(array.shape)"
   ]
  },
  {
   "cell_type": "code",
   "execution_count": 61,
   "metadata": {},
   "outputs": [],
   "source": [
    "#gaussian filter\n",
    "from scipy.ndimage import gaussian_filter\n",
    "arrayGau = gaussian_filter(array,sigma = 1)"
   ]
  },
  {
   "cell_type": "code",
   "execution_count": 62,
   "metadata": {},
   "outputs": [
    {
     "data": {
      "image/png": "[encoded data removed]",
      "text/plain": [
       "<Figure size 432x288 with 1 Axes>"
      ]
     },
     "metadata": {
      "needs_background": "light"
     },
     "output_type": "display_data"
    }
   ],
   "source": [
    "\n",
    "plt.imshow(arrayGau, cmap='gray',interpolation='nearest')\n",
    "plt.show()\n",
    "#Fix so that it shows in greyscale too\n",
    "#There is no color in array, so it picks \"random\" color"
   ]
  },
  {
   "cell_type": "code",
   "execution_count": 63,
   "metadata": {},
   "outputs": [
    {
     "name": "stdout",
     "output_type": "stream",
     "text": [
      "(128, 128)\n",
      "(128, 128)\n",
      "(10, 28) topMost (117, 11) bottomMost (2, 110) leftMost (58, 80) rightMost\n"
     ]
    }
   ],
   "source": [
    "#find leftmost non zero value\n",
    "#and right, and up, and left\n",
    "\n",
    "print(arrayGau.shape)\n",
    "print(array.shape)\n",
    "\n",
    "topMost = -1\n",
    "bottomMost = -1\n",
    "rightMost = -1\n",
    "leftMost = -1\n",
    "\n",
    "#left to right\n",
    "for x in range(128):\n",
    "    for y in range(128):\n",
    "\n",
    "        #save first non zero value (top)\n",
    "        if not arrayGau[x][y] == 0 and topMost == -1:\n",
    "            topMost = (x,y)\n",
    "\n",
    "        #save last non zero value (bottom)\n",
    "        if not arrayGau[x][y] == 0:\n",
    "            bottomMost = (x,y)\n",
    "\n",
    "#top to bottom\n",
    "for x in range(128):\n",
    "    for y in range(128):\n",
    "\n",
    "        #save first non zero value (left)\n",
    "        if not arrayGau[y][x] == 0 and leftMost == -1:\n",
    "            leftMost = (x,y)\n",
    "\n",
    "        #save last non zero value (right)\n",
    "        if not arrayGau[y][x] == 0:\n",
    "            rightMost = (x,y)\n",
    "\n",
    "\n",
    "print(topMost, \"topMost\", bottomMost , \"bottomMost\", leftMost, \"leftMost\", rightMost, \"rightMost\")\n",
    "    \n",
    "        "
   ]
  },
  {
   "cell_type": "code",
   "execution_count": 64,
   "metadata": {},
   "outputs": [
    {
     "name": "stdout",
     "output_type": "stream",
     "text": [
      "107 heigth\n",
      "56 width\n",
      "(107, 107)\n",
      "25 padding\n",
      "107 heigth\n",
      "56 width\n"
     ]
    }
   ],
   "source": [
    "#Find paddin\n",
    "heigth = abs(topMost[0] - bottomMost[0])\n",
    "width = abs(leftMost[0] - rightMost[0])\n",
    "print(heigth, \"heigth\")\n",
    "print(width , \"width\")\n",
    "\n",
    "#heigth is more, change width both sides\n",
    "if heigth > width:\n",
    "    padding = (heigth - abs(rightMost[0]-leftMost[0]))//2\n",
    "    #add padding to width\n",
    "    newArray = np.zeros(shape=(heigth,heigth))\n",
    "    for x in range(width+1):\n",
    "        for y in range(heigth):\n",
    "            # newArray[topMost[0] + x][padding +y] = 1\n",
    "            newArray[y][padding + x] = arrayGau[y+ topMost[0]][x + leftMost[0]]\n",
    "\n",
    "elif heigth < width:\n",
    "    padding = (width - abs(bottomMost[0]-topMost[0]+1))//2\n",
    "    #add padding to width\n",
    "    newArray = np.zeros(shape=(width,width))\n",
    "    for x in range(width):\n",
    "        for y in range(heigth+1):\n",
    "            # newArray[padding + y][x] = 1\n",
    "            newArray[padding + y][x] = arrayGau[y+ topMost[0]][x+leftMost[0]]\n",
    "\n",
    "print(np.shape(newArray))\n",
    "\n",
    "print(padding, \"padding\")\n",
    "print(heigth, \"heigth\")\n",
    "print(width , \"width\")"
   ]
  },
  {
   "cell_type": "code",
   "execution_count": 65,
   "metadata": {},
   "outputs": [
    {
     "name": "stdout",
     "output_type": "stream",
     "text": [
      "(10, 28) (117, 11) (2, 110) (58, 80)\n"
     ]
    }
   ],
   "source": [
    "print(topMost, bottomMost, leftMost, rightMost)"
   ]
  },
  {
   "cell_type": "code",
   "execution_count": 66,
   "metadata": {},
   "outputs": [
    {
     "data": {
      "image/png": "[encoded data removed]",
      "text/plain": [
       "<Figure size 432x288 with 1 Axes>"
      ]
     },
     "metadata": {
      "needs_background": "light"
     },
     "output_type": "display_data"
    },
    {
     "name": "stdout",
     "output_type": "stream",
     "text": [
      "(107, 107)\n",
      "378902.0\n"
     ]
    }
   ],
   "source": [
    "plt.imshow(newArray, cmap='gray',interpolation='nearest')\n",
    "plt.show()\n",
    "print(newArray.shape)\n",
    "print(newArray.sum())"
   ]
  },
  {
   "cell_type": "code",
   "execution_count": 67,
   "metadata": {},
   "outputs": [
    {
     "data": {
      "image/png": "[encoded data removed]",
      "text/plain": [
       "<Figure size 432x288 with 1 Axes>"
      ]
     },
     "metadata": {
      "needs_background": "light"
     },
     "output_type": "display_data"
    },
    {
     "name": "stdout",
     "output_type": "stream",
     "text": [
      "(107, 107)\n"
     ]
    }
   ],
   "source": [
    "#Test\n",
    "reducedArrayTest = newArray\n",
    "plt.imshow(reducedArrayTest, cmap='gray',interpolation='nearest')\n",
    "plt.show()\n",
    "print(reducedArrayTest.shape)"
   ]
  },
  {
   "cell_type": "code",
   "execution_count": 68,
   "metadata": {},
   "outputs": [],
   "source": [
    "#reduce matrix\n",
    "arrayGau = newArray\n",
    "reducedArray = arrayGau"
   ]
  },
  {
   "cell_type": "code",
   "execution_count": 69,
   "metadata": {},
   "outputs": [
    {
     "data": {
      "image/png": "[encoded data removed]",
      "text/plain": [
       "<Figure size 432x288 with 1 Axes>"
      ]
     },
     "metadata": {
      "needs_background": "light"
     },
     "output_type": "display_data"
    },
    {
     "name": "stdout",
     "output_type": "stream",
     "text": [
      "(107, 107)\n"
     ]
    }
   ],
   "source": [
    "plt.imshow(reducedArray, cmap='gray',interpolation='nearest')\n",
    "plt.show()\n",
    "print(reducedArray.shape)"
   ]
  },
  {
   "cell_type": "code",
   "execution_count": 70,
   "metadata": {},
   "outputs": [],
   "source": [
    "import cv2\n",
    "img_resized = cv2.resize(reducedArray, dsize=[28,28] ,fx=0, fy=0, interpolation=cv2.INTER_CUBIC)"
   ]
  },
  {
   "cell_type": "code",
   "execution_count": 71,
   "metadata": {},
   "outputs": [
    {
     "data": {
      "image/png": "[encoded data removed]",
      "text/plain": [
       "<Figure size 432x288 with 1 Axes>"
      ]
     },
     "metadata": {
      "needs_background": "light"
     },
     "output_type": "display_data"
    },
    {
     "name": "stdout",
     "output_type": "stream",
     "text": [
      "(28, 28)\n"
     ]
    }
   ],
   "source": [
    "plt.imshow(img_resized, cmap='gray',interpolation='nearest')\n",
    "plt.show()\n",
    "print(img_resized.shape)"
   ]
  },
  {
   "cell_type": "code",
   "execution_count": 72,
   "metadata": {},
   "outputs": [],
   "source": [
    "from joblib import dump, load"
   ]
  },
  {
   "cell_type": "code",
   "execution_count": 73,
   "metadata": {},
   "outputs": [
    {
     "name": "stdout",
     "output_type": "stream",
     "text": [
      "(1, 784)\n",
      "[10]\n",
      "A\n"
     ]
    }
   ],
   "source": [
    "clf1 = load('neuralNetModel.joblib') \n",
    "flatImg = img_resized.reshape(1,-1)\n",
    "\n",
    "print(flatImg.shape)\n",
    "pred = clf1.predict(flatImg)\n",
    "\n",
    "print(pred)\n",
    "\n",
    "numbers = [0,1,2,3,4,5,6,7,8,9]\n",
    "upper = [\"A\",\"B\",\"C\",\"D\",\"E\",\"F\",\"G\",\"H\",\"I\",\"J\",\"K\",\"L\",\"M\",\"N\",\"O\",\"P\",\"Q\",\"R\",\"S\",\"T\",\"U\",\"V\",\"W\",\"X\",\"Y\",\"Z\"]\n",
    "lower = ['a', 'b', 'c', 'd', 'e', 'f', 'g', 'h', 'i', 'j', 'k', 'l', 'm', 'n', 'o', 'p', 'q', 'r', 's', 't', 'u', 'v', 'w', 'x', 'y', 'z']\n",
    "targetLabels = numbers + upper + lower\n",
    "print(targetLabels[pred[0]])"
   ]
  }
 ],
 "metadata": {
  "kernelspec": {
   "display_name": "Python 3.9.6 64-bit",
   "language": "python",
   "name": "python3"
  },
  "language_info": {
   "codemirror_mode": {
    "name": "ipython",
    "version": 3
   },
   "file_extension": ".py",
   "mimetype": "text/x-python",
   "name": "python",
   "nbconvert_exporter": "python",
   "pygments_lexer": "ipython3",
   "version": "3.9.6"
  },
  "orig_nbformat": 4,
  "vscode": {
   "interpreter": {
    "hash": "e9fb61b4c72117f5d7b2c8d6242145ec5a71ca8cd00b47ff0a0694a5bc1f5f2f"
   }
  }
 },
 "nbformat": 4,
 "nbformat_minor": 2
}
